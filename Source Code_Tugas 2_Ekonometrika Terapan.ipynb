{
 "cells": [
  {
   "cell_type": "markdown",
   "id": "69c76a31-7672-48bd-914a-ca3bf49dbffc",
   "metadata": {},
   "source": [
    "# Analisis Pengaruh Jenis Pekerjaan Ibu Terhadap Jumlah Kelahiran Bayi di Jakarta Tahun 2017-2019 Melalui Pendekatan Data Panel"
   ]
  },
  {
   "cell_type": "markdown",
   "id": "bdc7ed0e-5210-442e-837d-01b77f1494be",
   "metadata": {},
   "source": [
    "## 1. Preprocessing Data\n"
   ]
  },
  {
   "cell_type": "code",
   "execution_count": 192,
   "id": "0f8050b8-e374-43a8-903e-07c2391dc08c",
   "metadata": {},
   "outputs": [
    {
     "name": "stdout",
     "output_type": "stream",
     "text": [
      "   tahun     provinsi           nama_kota   nama_kecamatan nama_kelurahan  \\\n",
      "0   2015  DKI Jakarta  Kab.Adm.Kep.Seribu  KEP. SERIBU SLT        P. PARI   \n",
      "1   2015  DKI Jakarta  Kab.Adm.Kep.Seribu  KEP. SERIBU SLT        P. PARI   \n",
      "2   2015  DKI Jakarta  Kab.Adm.Kep.Seribu  KEP. SERIBU SLT        P. PARI   \n",
      "3   2015  DKI Jakarta  Kab.Adm.Kep.Seribu  KEP. SERIBU SLT        P. PARI   \n",
      "4   2015  DKI Jakarta  Kab.Adm.Kep.Seribu  KEP. SERIBU SLT        P. PARI   \n",
      "\n",
      "         pekerjaan_ibu  jumlah  periode_data  \n",
      "0  Belum-Tidak Bekerja       1          2015  \n",
      "1                Bidan       1          2015  \n",
      "2                 Guru       1          2015  \n",
      "3      Karyawan Swasta       1          2015  \n",
      "4              Lainnya       1          2015  \n",
      "tahun             0\n",
      "provinsi          0\n",
      "nama_kota         0\n",
      "nama_kecamatan    0\n",
      "nama_kelurahan    0\n",
      "pekerjaan_ibu     0\n",
      "jumlah            0\n",
      "periode_data      0\n",
      "dtype: int64\n",
      "<class 'pandas.core.frame.DataFrame'>\n",
      "Index: 17222 entries, 0 to 28550\n",
      "Data columns (total 8 columns):\n",
      " #   Column          Non-Null Count  Dtype   \n",
      "---  ------          --------------  -----   \n",
      " 0   tahun           17222 non-null  int32   \n",
      " 1   provinsi        17222 non-null  category\n",
      " 2   nama_kota       17222 non-null  category\n",
      " 3   nama_kecamatan  17222 non-null  category\n",
      " 4   nama_kelurahan  17222 non-null  category\n",
      " 5   pekerjaan_ibu   17222 non-null  category\n",
      " 6   jumlah          17222 non-null  int32   \n",
      " 7   periode_data    17222 non-null  int64   \n",
      "dtypes: category(5), int32(2), int64(1)\n",
      "memory usage: 534.4 KB\n",
      "None\n"
     ]
    }
   ],
   "source": [
    "import pandas as pd\n",
    "import numpy as np\n",
    "\n",
    "# Membaca data CSV\n",
    "file_path = 'C:/Users/thinkpad.DESKTOP-BP0710L/Downloads/Data_Jumlah_Kelahiran_Bayi.csv'\n",
    "df = pd.read_csv(file_path)\n",
    "\n",
    "# Menampilkan beberapa baris pertama untuk memeriksa struktur data\n",
    "print(df.head())\n",
    "\n",
    "# Memeriksa apakah ada nilai yang hilang\n",
    "print(df.isnull().sum())\n",
    "\n",
    "# Menghapus baris dengan nilai yang hilang\n",
    "df = df.dropna()\n",
    "\n",
    "# Memeriksa duplikasi\n",
    "df = df.drop_duplicates()\n",
    "\n",
    "# Mengonversi kolom 'tahun' dan 'jumlah' ke tipe data yang benar\n",
    "df['tahun'] = df['tahun'].astype(int)\n",
    "df['jumlah'] = df['jumlah'].astype(int)\n",
    "\n",
    "# Mengonversi kolom kategori menjadi tipe kategori untuk efisiensi\n",
    "df['provinsi'] = df['provinsi'].astype('category')\n",
    "df['nama_kota'] = df['nama_kota'].astype('category')\n",
    "df['nama_kecamatan'] = df['nama_kecamatan'].astype('category')\n",
    "df['nama_kelurahan'] = df['nama_kelurahan'].astype('category')\n",
    "df['pekerjaan_ibu'] = df['pekerjaan_ibu'].astype('category')\n",
    "\n",
    "# Memeriksa ulang data setelah pembersihan\n",
    "print(df.info())\n"
   ]
  },
  {
   "cell_type": "code",
   "execution_count": null,
   "id": "1b1f75f9-2841-4dca-8159-1cc56dc3cd19",
   "metadata": {},
   "outputs": [],
   "source": []
  },
  {
   "cell_type": "markdown",
   "id": "8af4bb96-831c-4745-8e05-6660932037fb",
   "metadata": {},
   "source": [
    "## 2. Pembersihan Data (Data Cleaning)\n",
    "Proses ini mencakup pemeriksaan dan pembersihan data dari nilai yang hilang (missing values) dan duplikat (duplicates)."
   ]
  },
  {
   "cell_type": "code",
   "execution_count": 193,
   "id": "e170b700-12b4-43f5-a3e2-75ade4cabf92",
   "metadata": {},
   "outputs": [
    {
     "name": "stdout",
     "output_type": "stream",
     "text": [
      "tahun             0\n",
      "provinsi          0\n",
      "nama_kota         0\n",
      "nama_kecamatan    0\n",
      "nama_kelurahan    0\n",
      "pekerjaan_ibu     0\n",
      "jumlah            0\n",
      "periode_data      0\n",
      "dtype: int64\n",
      "<class 'pandas.core.frame.DataFrame'>\n",
      "Index: 17222 entries, 0 to 28550\n",
      "Data columns (total 8 columns):\n",
      " #   Column          Non-Null Count  Dtype   \n",
      "---  ------          --------------  -----   \n",
      " 0   tahun           17222 non-null  int32   \n",
      " 1   provinsi        17222 non-null  category\n",
      " 2   nama_kota       17222 non-null  category\n",
      " 3   nama_kecamatan  17222 non-null  category\n",
      " 4   nama_kelurahan  17222 non-null  category\n",
      " 5   pekerjaan_ibu   17222 non-null  category\n",
      " 6   jumlah          17222 non-null  int32   \n",
      " 7   periode_data    17222 non-null  int64   \n",
      "dtypes: category(5), int32(2), int64(1)\n",
      "memory usage: 534.4 KB\n",
      "None\n"
     ]
    }
   ],
   "source": [
    "# Memeriksa apakah ada nilai yang hilang\n",
    "print(df.isnull().sum())\n",
    "\n",
    "# Menghapus baris dengan nilai yang hilang\n",
    "df = df.dropna()\n",
    "\n",
    "# Memeriksa duplikasi\n",
    "df = df.drop_duplicates()\n",
    "\n",
    "# Mengonversi kolom 'tahun' dan 'jumlah' ke tipe data yang benar\n",
    "df['tahun'] = df['tahun'].astype(int)\n",
    "df['jumlah'] = df['jumlah'].astype(int)\n",
    "\n",
    "# Mengonversi kolom kategori menjadi tipe kategori untuk efisiensi\n",
    "df['provinsi'] = df['provinsi'].astype('category')\n",
    "df['nama_kota'] = df['nama_kota'].astype('category')\n",
    "df['nama_kecamatan'] = df['nama_kecamatan'].astype('category')\n",
    "df['nama_kelurahan'] = df['nama_kelurahan'].astype('category')\n",
    "df['pekerjaan_ibu'] = df['pekerjaan_ibu'].astype('category')\n",
    "\n",
    "# Memeriksa ulang data setelah pembersihan\n",
    "print(df.info())"
   ]
  },
  {
   "cell_type": "markdown",
   "id": "2c3ff82f-55a2-45c4-8ccf-b9ea0ceef3c1",
   "metadata": {},
   "source": [
    "## 3. Membuat Kolom ID dan Set Index\n",
    "Proses ini membuat kolom id yang merupakan gabungan dari nama_kelurahan dan tahun, dan menetapkan MultiIndex berdasarkan id dan tahun untuk analisis data panel."
   ]
  },
  {
   "cell_type": "code",
   "execution_count": 194,
   "id": "127ab80b-8e2a-49e6-b0a3-c34dee59c7e3",
   "metadata": {},
   "outputs": [
    {
     "name": "stdout",
     "output_type": "stream",
     "text": [
      "MultiIndex([(               'P. PARI-2015', 2015),\n",
      "            (               'P. PARI-2015', 2015),\n",
      "            (               'P. PARI-2015', 2015),\n",
      "            (               'P. PARI-2015', 2015),\n",
      "            (               'P. PARI-2015', 2015),\n",
      "            (               'P. PARI-2015', 2015),\n",
      "            (               'P. PARI-2015', 2015),\n",
      "            (               'P. PARI-2015', 2015),\n",
      "            (             'P. TIDUNG-2015', 2015),\n",
      "            (             'P. TIDUNG-2015', 2015),\n",
      "            ...\n",
      "            ('CIPINANG BESAR SELATAN-2019', 2019),\n",
      "            ('CIPINANG BESAR SELATAN-2019', 2019),\n",
      "            ('CIPINANG BESAR SELATAN-2019', 2019),\n",
      "            (  'CIPINANG BESAR UTARA-2019', 2019),\n",
      "            (  'CIPINANG BESAR UTARA-2019', 2019),\n",
      "            (  'CIPINANG BESAR UTARA-2019', 2019),\n",
      "            (  'CIPINANG BESAR UTARA-2019', 2019),\n",
      "            (  'CIPINANG BESAR UTARA-2019', 2019),\n",
      "            (  'CIPINANG BESAR UTARA-2019', 2019),\n",
      "            (  'CIPINANG BESAR UTARA-2019', 2019)],\n",
      "           names=['id', 'tahun'], length=17222)\n"
     ]
    }
   ],
   "source": [
    "# Membuat kolom 'id' dengan menggabungkan 'nama_kelurahan' dan 'tahun'\n",
    "df['id'] = df['nama_kelurahan'].astype(str) + '-' + df['tahun'].astype(str)\n",
    "\n",
    "# Menetapkan MultiIndex untuk entitas (id) dan periode waktu (tahun)\n",
    "df.set_index(['id', 'tahun'], inplace=True)\n",
    "\n",
    "# Memeriksa struktur index untuk memastikan data sudah memiliki MultiIndex\n",
    "print(df.index)\n"
   ]
  },
  {
   "cell_type": "code",
   "execution_count": 195,
   "id": "2fb93495-9a66-4754-aeff-6d038a5eb065",
   "metadata": {},
   "outputs": [
    {
     "name": "stdout",
     "output_type": "stream",
     "text": [
      "Index(['provinsi', 'nama_kota', 'nama_kecamatan', 'nama_kelurahan',\n",
      "       'pekerjaan_ibu', 'jumlah', 'tahun'],\n",
      "      dtype='object')\n"
     ]
    }
   ],
   "source": [
    "# Mengganti nama kolom 'periode_data' menjadi 'tahun'\n",
    "df.rename(columns={'periode_data': 'tahun'}, inplace=True)\n",
    "\n",
    "# Memeriksa nama kolom setelah perubahan\n",
    "print(df.columns)\n"
   ]
  },
  {
   "cell_type": "code",
   "execution_count": null,
   "id": "2a36c958-a2e7-4f71-9f03-b9fcc54376ba",
   "metadata": {},
   "outputs": [],
   "source": []
  },
  {
   "cell_type": "code",
   "execution_count": 196,
   "id": "3e9cf1dc-f2e2-422c-8063-7cdb04c55671",
   "metadata": {},
   "outputs": [
    {
     "name": "stdout",
     "output_type": "stream",
     "text": [
      "                       provinsi           nama_kota   nama_kecamatan  \\\n",
      "id           tahun                                                     \n",
      "P. PARI-2015 2015   DKI Jakarta  Kab.Adm.Kep.Seribu  KEP. SERIBU SLT   \n",
      "             2015   DKI Jakarta  Kab.Adm.Kep.Seribu  KEP. SERIBU SLT   \n",
      "             2015   DKI Jakarta  Kab.Adm.Kep.Seribu  KEP. SERIBU SLT   \n",
      "             2015   DKI Jakarta  Kab.Adm.Kep.Seribu  KEP. SERIBU SLT   \n",
      "             2015   DKI Jakarta  Kab.Adm.Kep.Seribu  KEP. SERIBU SLT   \n",
      "\n",
      "                   nama_kelurahan        pekerjaan_ibu  jumlah  tahun  \n",
      "id           tahun                                                     \n",
      "P. PARI-2015 2015         P. PARI  Belum-Tidak Bekerja       1   2015  \n",
      "             2015         P. PARI                Bidan       1   2015  \n",
      "             2015         P. PARI                 Guru       1   2015  \n",
      "             2015         P. PARI      Karyawan Swasta       1   2015  \n",
      "             2015         P. PARI              Lainnya       1   2015  \n"
     ]
    }
   ],
   "source": [
    "# Memeriksa beberapa baris pertama setelah penggantian nama kolom\n",
    "print(df.head())"
   ]
  },
  {
   "cell_type": "markdown",
   "id": "3d6eaf0d-0c0a-47fd-9873-71857d15fa2c",
   "metadata": {},
   "source": [
    "## 4. Filter Data untuk 3 Tahun Terakhir\n",
    "Proses ini memilih data hanya untuk 3 tahun terakhir untuk fokus pada analisis yang lebih terkini."
   ]
  },
  {
   "cell_type": "code",
   "execution_count": 197,
   "id": "3b228835-f133-460e-a91b-0f0d1af99193",
   "metadata": {},
   "outputs": [
    {
     "name": "stdout",
     "output_type": "stream",
     "text": [
      "                                  provinsi      nama_kota nama_kecamatan  \\\n",
      "id                      tahun                                              \n",
      "Rawa badak selatan-2017 2017   DKI Jakarta  Jakarta utara           Koja   \n",
      "                        2017   DKI Jakarta  Jakarta utara           Koja   \n",
      "                        2017   DKI Jakarta  Jakarta utara           Koja   \n",
      "                        2017   DKI Jakarta  Jakarta utara           Koja   \n",
      "                        2017   DKI Jakarta  Jakarta utara           Koja   \n",
      "\n",
      "                                   nama_kelurahan               pekerjaan_ibu  \\\n",
      "id                      tahun                                                   \n",
      "Rawa badak selatan-2017 2017   Rawa badak selatan        Pegawai Negeri Sipil   \n",
      "                        2017   Rawa badak selatan           Pelajar-Mahasiswa   \n",
      "                        2017   Rawa badak selatan                   Pensiunan   \n",
      "                        2017   Rawa badak selatan                     Perawat   \n",
      "                        2017   Rawa badak selatan  Tentara Nasional Indonesia   \n",
      "\n",
      "                               jumlah  tahun  \n",
      "id                      tahun                 \n",
      "Rawa badak selatan-2017 2017        7   2017  \n",
      "                        2017       13   2017  \n",
      "                        2017        2   2017  \n",
      "                        2017        4   2017  \n",
      "                        2017        1   2017  \n"
     ]
    }
   ],
   "source": [
    "# Menentukan tahun terakhir dalam dataset\n",
    "last_year = df['tahun'].max()\n",
    "\n",
    "# Memfilter data untuk hanya mengambil 3 tahun terakhir\n",
    "df_last_3_years = df[df['tahun'] >= last_year - 2]\n",
    "\n",
    "# Memeriksa data yang sudah difilter\n",
    "print(df_last_3_years.head())\n"
   ]
  },
  {
   "cell_type": "markdown",
   "id": "4443d293-21de-4e11-9b10-f4990cfae020",
   "metadata": {},
   "source": [
    "## 5. Log Transformasi untuk Variabel Jumlah\n",
    "Proses ini mentransformasi variabel jumlah menjadi jumlah_log dengan menggunakan logaritma (log(x + 1)) agar tidak ada masalah dengan nilai 0."
   ]
  },
  {
   "cell_type": "code",
   "execution_count": 213,
   "id": "8c20499d-25ee-4cd2-b9c5-ec5818d391bf",
   "metadata": {},
   "outputs": [
    {
     "name": "stdout",
     "output_type": "stream",
     "text": [
      "                               jumlah  jumlah_log\n",
      "id                      tahun                    \n",
      "Rawa badak selatan-2017 2017        7    2.079442\n",
      "                        2017       13    2.639057\n",
      "                        2017        2    1.098612\n",
      "                        2017        4    1.609438\n",
      "                        2017        1    0.693147\n"
     ]
    }
   ],
   "source": [
    "# Log-transformasi variabel jumlah (log(x+1) agar tidak ada masalah dengan nilai 0)\n",
    "df_last_3_years.loc[:, 'jumlah_log'] = np.log1p(df_last_3_years['jumlah'])\n",
    "\n",
    "# Memeriksa hasil transformasi\n",
    "print(df_last_3_years[['jumlah', 'jumlah_log']].head())"
   ]
  },
  {
   "cell_type": "markdown",
   "id": "e4291cda-141e-42dd-b3e7-0a5b178e3b2e",
   "metadata": {},
   "source": [
    "## 6. Membuat Variabel Dummy untuk Pekerjaan Ibu\n",
    "Proses ini mengonversi kategori pekerjaan_ibu menjadi variabel numerik (dummy)."
   ]
  },
  {
   "cell_type": "code",
   "execution_count": 214,
   "id": "8ec4c2f0-3e8d-4f4d-b3ca-bb5b6eddea1d",
   "metadata": {},
   "outputs": [
    {
     "name": "stdout",
     "output_type": "stream",
     "text": [
      "                                            pekerjaan_ibu  \\\n",
      "id                      tahun                               \n",
      "Rawa badak selatan-2017 2017         Pegawai Negeri Sipil   \n",
      "                        2017            Pelajar-Mahasiswa   \n",
      "                        2017                    Pensiunan   \n",
      "                        2017                      Perawat   \n",
      "                        2017   Tentara Nasional Indonesia   \n",
      "\n",
      "                               pekerjaan_ibu_dummies  \n",
      "id                      tahun                         \n",
      "Rawa badak selatan-2017 2017                      31  \n",
      "                        2017                      32  \n",
      "                        2017                      41  \n",
      "                        2017                      46  \n",
      "                        2017                      54  \n"
     ]
    }
   ],
   "source": [
    "# Mengonversi variabel pekerjaan_ibu menjadi kategori numerik (dummy) menggunakan .loc[] untuk menghindari SettingWithCopyWarning\n",
    "df_last_3_years.loc[:, 'pekerjaan_ibu_dummies'] = pd.Categorical(df_last_3_years['pekerjaan_ibu']).codes\n",
    "\n",
    "# Memeriksa hasil konversi\n",
    "print(df_last_3_years[['pekerjaan_ibu', 'pekerjaan_ibu_dummies']].head())\n"
   ]
  },
  {
   "cell_type": "markdown",
   "id": "93cd8b33-b379-4867-aa21-d9bb0b91e1da",
   "metadata": {},
   "source": [
    "# Pemodelan"
   ]
  },
  {
   "cell_type": "markdown",
   "id": "c340615b-12db-4ee5-bad4-1d3919a93afc",
   "metadata": {},
   "source": [
    "## 1. Model Regresi Panel (Fixed Effects)\n",
    "Proses ini melibatkan penerapan model Fixed Effects menggunakan PanelOLS untuk menganalisis hubungan antara pekerjaan ibu dan jumlah kelahiran bayi, dengan kontrol terhadap efek entitas (kelurahan) menggunakan EntityEffects."
   ]
  },
  {
   "cell_type": "code",
   "execution_count": 204,
   "id": "a1b091f7-4b02-4944-ad97-59c0e0503c1c",
   "metadata": {},
   "outputs": [
    {
     "name": "stdout",
     "output_type": "stream",
     "text": [
      "                          PanelOLS Estimation Summary                           \n",
      "================================================================================\n",
      "Dep. Variable:             jumlah_log   R-squared:                        0.0106\n",
      "Estimator:                   PanelOLS   R-squared (Between):              0.1994\n",
      "No. Observations:               10612   R-squared (Within):               0.0106\n",
      "Date:                Sun, Dec 01 2024   R-squared (Overall):              0.1339\n",
      "Time:                        00:18:20   Log-likelihood                -1.943e+04\n",
      "Cov. Estimator:            Unadjusted                                           \n",
      "                                        F-statistic:                      105.10\n",
      "Entities:                         801   P-value                           0.0000\n",
      "Avg Obs:                       13.248   Distribution:                  F(1,9810)\n",
      "Min Obs:                       2.0000                                           \n",
      "Max Obs:                       24.000   F-statistic (robust):             105.10\n",
      "                                        P-value                           0.0000\n",
      "Time periods:                       3   Distribution:                  F(1,9810)\n",
      "Avg Obs:                       3537.3                                           \n",
      "Min Obs:                       3453.0                                           \n",
      "Max Obs:                       3644.0                                           \n",
      "                                                                                \n",
      "                                   Parameter Estimates                                   \n",
      "=========================================================================================\n",
      "                       Parameter  Std. Err.     T-stat    P-value    Lower CI    Upper CI\n",
      "-----------------------------------------------------------------------------------------\n",
      "pekerjaan_ibu_dummies     0.0095     0.0009     10.252     0.0000      0.0077      0.0113\n",
      "=========================================================================================\n",
      "\n",
      "F-test for Poolability: 0.4419\n",
      "P-value: 1.0000\n",
      "Distribution: F(800,9810)\n",
      "\n",
      "Included effects: Entity\n"
     ]
    }
   ],
   "source": [
    "# Menetapkan variabel dependen dan independen\n",
    "y = df_last_3_years['jumlah_log']\n",
    "X = df_last_3_years[['pekerjaan_ibu_dummies']]\n",
    "\n",
    "# Model Fixed Effects (FE)\n",
    "fe_model = PanelOLS(y, X, entity_effects=True).fit()\n",
    "\n",
    "# Menampilkan hasil model Fixed Effects\n",
    "print(fe_model.summary)\n"
   ]
  },
  {
   "cell_type": "markdown",
   "id": "b75536b3-956f-4748-9d17-28a1c328bc28",
   "metadata": {},
   "source": [
    "## 2. Model Random Effects \n",
    "Proses ini melakukan estimasi model Random Effects "
   ]
  },
  {
   "cell_type": "code",
   "execution_count": 203,
   "id": "f7f1bdbb-ca28-4e48-acbd-629725c2d921",
   "metadata": {},
   "outputs": [
    {
     "name": "stdout",
     "output_type": "stream",
     "text": [
      "                        RandomEffects Estimation Summary                        \n",
      "================================================================================\n",
      "Dep. Variable:             jumlah_log   R-squared:                        0.4750\n",
      "Estimator:              RandomEffects   R-squared (Between):              0.8849\n",
      "No. Observations:               10612   R-squared (Within):              -0.3166\n",
      "Date:                Sun, Dec 01 2024   R-squared (Overall):              0.4750\n",
      "Time:                        00:14:32   Log-likelihood                -2.178e+04\n",
      "Cov. Estimator:            Unadjusted                                           \n",
      "                                        F-statistic:                      9601.9\n",
      "Entities:                         801   P-value                           0.0000\n",
      "Avg Obs:                       13.248   Distribution:                 F(1,10611)\n",
      "Min Obs:                       2.0000                                           \n",
      "Max Obs:                       24.000   F-statistic (robust):             9601.9\n",
      "                                        P-value                           0.0000\n",
      "Time periods:                       3   Distribution:                 F(1,10611)\n",
      "Avg Obs:                       3537.3                                           \n",
      "Min Obs:                       3453.0                                           \n",
      "Max Obs:                       3644.0                                           \n",
      "                                                                                \n",
      "                                   Parameter Estimates                                   \n",
      "=========================================================================================\n",
      "                       Parameter  Std. Err.     T-stat    P-value    Lower CI    Upper CI\n",
      "-----------------------------------------------------------------------------------------\n",
      "pekerjaan_ibu_dummies     0.0623     0.0006     97.989     0.0000      0.0610      0.0635\n",
      "=========================================================================================\n"
     ]
    }
   ],
   "source": [
    "from linearmodels.panel import RandomEffects\n",
    "\n",
    "# Model Random Effects (RE)\n",
    "re_model = RandomEffects.from_formula('jumlah_log ~ pekerjaan_ibu_dummies', data=df_last_3_years).fit()\n",
    "\n",
    "# Menampilkan hasil model Random Effects\n",
    "print(re_model.summary)"
   ]
  },
  {
   "cell_type": "markdown",
   "id": "c8b38289-caf1-4af5-87aa-481a4ae2cef1",
   "metadata": {},
   "source": [
    "## 3. Code untuk Pooled OLS (Common Effect Model)"
   ]
  },
  {
   "cell_type": "code",
   "execution_count": 176,
   "id": "03235038-3c67-46c4-b203-4012c0301591",
   "metadata": {},
   "outputs": [
    {
     "name": "stdout",
     "output_type": "stream",
     "text": [
      "                            OLS Regression Results                            \n",
      "==============================================================================\n",
      "Dep. Variable:             jumlah_log   R-squared:                       0.009\n",
      "Model:                            OLS   Adj. R-squared:                  0.009\n",
      "Method:                 Least Squares   F-statistic:                     96.70\n",
      "Date:                Sat, 30 Nov 2024   Prob (F-statistic):           1.01e-22\n",
      "Time:                        23:47:37   Log-Likelihood:                -19617.\n",
      "No. Observations:               10612   AIC:                         3.924e+04\n",
      "Df Residuals:                   10610   BIC:                         3.925e+04\n",
      "Df Model:                           1                                         \n",
      "Covariance Type:            nonrobust                                         \n",
      "=========================================================================================\n",
      "                            coef    std err          t      P>|t|      [0.025      0.975]\n",
      "-----------------------------------------------------------------------------------------\n",
      "const                     1.8857      0.026     73.079      0.000       1.835       1.936\n",
      "pekerjaan_ibu_dummies     0.0088      0.001      9.834      0.000       0.007       0.011\n",
      "==============================================================================\n",
      "Omnibus:                     1748.084   Durbin-Watson:                   2.093\n",
      "Prob(Omnibus):                  0.000   Jarque-Bera (JB):             2737.240\n",
      "Skew:                           1.217   Prob(JB):                         0.00\n",
      "Kurtosis:                       3.517   Cond. No.                         49.8\n",
      "==============================================================================\n",
      "\n",
      "Notes:\n",
      "[1] Standard Errors assume that the covariance matrix of the errors is correctly specified.\n"
     ]
    }
   ],
   "source": [
    "import pandas as pd\n",
    "import numpy as np\n",
    "import statsmodels.api as sm\n",
    "\n",
    "# Misalkan df_last_3_years adalah dataset yang sudah diproses sebelumnya\n",
    "# Definisikan variabel dependen dan independen\n",
    "y = df_last_3_years['jumlah_log']  # Variabel dependen\n",
    "X = df_last_3_years[['pekerjaan_ibu_dummies']]  # Variabel independen\n",
    "\n",
    "# Menambahkan intercept (konstanta) ke model\n",
    "X = sm.add_constant(X)\n",
    "\n",
    "# Menjalankan model Common Effect (Pooled OLS)\n",
    "pooled_model = sm.OLS(y, X).fit()\n",
    "\n",
    "# Menampilkan hasil model\n",
    "print(pooled_model.summary())\n"
   ]
  },
  {
   "cell_type": "markdown",
   "id": "409c2aff-f31e-4a00-ac08-f560e781f8fb",
   "metadata": {},
   "source": [
    "# Pengujian"
   ]
  },
  {
   "cell_type": "markdown",
   "id": "bdfa90f2-1345-4d2e-80c6-17b986ebecf5",
   "metadata": {},
   "source": [
    "## 1. Uji Chow"
   ]
  },
  {
   "cell_type": "code",
   "execution_count": 179,
   "id": "055e89ba-c49d-4a06-8bc9-71092f863ac1",
   "metadata": {},
   "outputs": [
    {
     "name": "stdout",
     "output_type": "stream",
     "text": [
      "   tahun     provinsi           nama_kota   nama_kecamatan nama_kelurahan  \\\n",
      "0   2015  DKI Jakarta  Kab.Adm.Kep.Seribu  KEP. SERIBU SLT        P. PARI   \n",
      "1   2015  DKI Jakarta  Kab.Adm.Kep.Seribu  KEP. SERIBU SLT        P. PARI   \n",
      "2   2015  DKI Jakarta  Kab.Adm.Kep.Seribu  KEP. SERIBU SLT        P. PARI   \n",
      "3   2015  DKI Jakarta  Kab.Adm.Kep.Seribu  KEP. SERIBU SLT        P. PARI   \n",
      "4   2015  DKI Jakarta  Kab.Adm.Kep.Seribu  KEP. SERIBU SLT        P. PARI   \n",
      "\n",
      "         pekerjaan_ibu  jumlah  periode_data  \n",
      "0  Belum-Tidak Bekerja       1          2015  \n",
      "1                Bidan       1          2015  \n",
      "2                 Guru       1          2015  \n",
      "3      Karyawan Swasta       1          2015  \n",
      "4              Lainnya       1          2015  \n",
      "tahun             0\n",
      "provinsi          0\n",
      "nama_kota         0\n",
      "nama_kecamatan    0\n",
      "nama_kelurahan    0\n",
      "pekerjaan_ibu     0\n",
      "jumlah            0\n",
      "periode_data      0\n",
      "dtype: int64\n",
      "F-statistic untuk Uji Chow: 0.0031700575762288103\n",
      "Nilai kritis F (alpha = 0.05): 1.1049434076235995\n",
      "H0 diterima: Gunakan model Pooled OLS (Common Effect).\n",
      "\n",
      "Hasil Model Pooled OLS:\n",
      "                            OLS Regression Results                            \n",
      "==============================================================================\n",
      "Dep. Variable:             jumlah_log   R-squared:                       0.009\n",
      "Model:                            OLS   Adj. R-squared:                  0.009\n",
      "Method:                 Least Squares   F-statistic:                     96.70\n",
      "Date:                Sat, 30 Nov 2024   Prob (F-statistic):           1.01e-22\n",
      "Time:                        23:47:42   Log-Likelihood:                -19617.\n",
      "No. Observations:               10612   AIC:                         3.924e+04\n",
      "Df Residuals:                   10610   BIC:                         3.925e+04\n",
      "Df Model:                           1                                         \n",
      "Covariance Type:            nonrobust                                         \n",
      "=========================================================================================\n",
      "                            coef    std err          t      P>|t|      [0.025      0.975]\n",
      "-----------------------------------------------------------------------------------------\n",
      "const                     1.8857      0.026     73.079      0.000       1.835       1.936\n",
      "pekerjaan_ibu_dummies     0.0088      0.001      9.834      0.000       0.007       0.011\n",
      "==============================================================================\n",
      "Omnibus:                     1748.084   Durbin-Watson:                   2.093\n",
      "Prob(Omnibus):                  0.000   Jarque-Bera (JB):             2737.240\n",
      "Skew:                           1.217   Prob(JB):                         0.00\n",
      "Kurtosis:                       3.517   Cond. No.                         49.8\n",
      "==============================================================================\n",
      "\n",
      "Notes:\n",
      "[1] Standard Errors assume that the covariance matrix of the errors is correctly specified.\n",
      "\n",
      "Hasil Model Fixed Effects:\n",
      "                          PanelOLS Estimation Summary                           \n",
      "================================================================================\n",
      "Dep. Variable:             jumlah_log   R-squared:                        0.0106\n",
      "Estimator:                   PanelOLS   R-squared (Between):              0.1994\n",
      "No. Observations:               10612   R-squared (Within):               0.0106\n",
      "Date:                Sat, Nov 30 2024   R-squared (Overall):              0.1339\n",
      "Time:                        23:47:42   Log-likelihood                -1.943e+04\n",
      "Cov. Estimator:            Unadjusted                                           \n",
      "                                        F-statistic:                      105.10\n",
      "Entities:                         801   P-value                           0.0000\n",
      "Avg Obs:                       13.248   Distribution:                  F(1,9810)\n",
      "Min Obs:                       2.0000                                           \n",
      "Max Obs:                       24.000   F-statistic (robust):             105.10\n",
      "                                        P-value                           0.0000\n",
      "Time periods:                       3   Distribution:                  F(1,9810)\n",
      "Avg Obs:                       3537.3                                           \n",
      "Min Obs:                       3453.0                                           \n",
      "Max Obs:                       3644.0                                           \n",
      "                                                                                \n",
      "                                   Parameter Estimates                                   \n",
      "=========================================================================================\n",
      "                       Parameter  Std. Err.     T-stat    P-value    Lower CI    Upper CI\n",
      "-----------------------------------------------------------------------------------------\n",
      "pekerjaan_ibu_dummies     0.0095     0.0009     10.252     0.0000      0.0077      0.0113\n",
      "=========================================================================================\n",
      "\n",
      "F-test for Poolability: 0.4419\n",
      "P-value: 1.0000\n",
      "Distribution: F(800,9810)\n",
      "\n",
      "Included effects: Entity\n"
     ]
    }
   ],
   "source": [
    "import pandas as pd\n",
    "import numpy as np\n",
    "import statsmodels.api as sm\n",
    "from linearmodels.panel import PanelOLS\n",
    "import scipy.stats as stats\n",
    "\n",
    "# 1. Membaca data CSV\n",
    "file_path = 'C:/Users/thinkpad.DESKTOP-BP0710L/Downloads/Data_Jumlah_Kelahiran_Bayi.csv'\n",
    "df = pd.read_csv(file_path)\n",
    "\n",
    "# Menampilkan beberapa baris pertama untuk memeriksa struktur data\n",
    "print(df.head())\n",
    "\n",
    "# 2. Memeriksa apakah ada nilai yang hilang\n",
    "print(df.isnull().sum())\n",
    "\n",
    "# Menghapus baris dengan nilai yang hilang\n",
    "df = df.dropna()\n",
    "\n",
    "# Memeriksa duplikasi\n",
    "df = df.drop_duplicates()\n",
    "\n",
    "# Mengonversi kolom 'tahun' dan 'jumlah' ke tipe data yang benar\n",
    "df['tahun'] = df['tahun'].astype(int)\n",
    "df['jumlah'] = df['jumlah'].astype(int)\n",
    "\n",
    "# Mengonversi kolom kategori menjadi tipe kategori untuk efisiensi\n",
    "df['provinsi'] = df['provinsi'].astype('category')\n",
    "df['nama_kota'] = df['nama_kota'].astype('category')\n",
    "df['nama_kecamatan'] = df['nama_kecamatan'].astype('category')\n",
    "df['nama_kelurahan'] = df['nama_kelurahan'].astype('category')\n",
    "df['pekerjaan_ibu'] = df['pekerjaan_ibu'].astype('category')\n",
    "\n",
    "# 3. Filter data untuk 3 tahun terakhir (2017-2019)\n",
    "df = df[df['tahun'].between(2017, 2019)]\n",
    "\n",
    "# Membuat kolom 'id' dan 'jumlah_log'\n",
    "df['id'] = df['nama_kelurahan'].astype(str) + '-' + df['tahun'].astype(str)\n",
    "df['jumlah_log'] = np.log1p(df['jumlah'])  # Log(x + 1) agar tidak ada masalah dengan nilai 0\n",
    "df['pekerjaan_ibu_dummies'] = pd.Categorical(df['pekerjaan_ibu']).codes\n",
    "\n",
    "# Menetapkan MultiIndex berdasarkan 'id' dan 'tahun' untuk analisis panel\n",
    "df.set_index(['id', 'tahun'], inplace=True)\n",
    "\n",
    "# 4. Model Common Effect (Pooled OLS)\n",
    "# Menyiapkan variabel dependen dan independen\n",
    "y = df['jumlah_log']\n",
    "X = sm.add_constant(df['pekerjaan_ibu_dummies'])  # Menambahkan konstanta\n",
    "\n",
    "# Membuat model Pooled OLS\n",
    "pooled_model = sm.OLS(y, X).fit()\n",
    "\n",
    "# 5. Model Fixed Effects dengan menggunakan PanelOLS dari linearmodels\n",
    "fe_model = PanelOLS.from_formula('jumlah_log ~ pekerjaan_ibu_dummies + EntityEffects', data=df).fit()\n",
    "\n",
    "# 6. Uji Chow\n",
    "# Menghitung R-squared dari kedua model\n",
    "R_squared_ols = pooled_model.rsquared\n",
    "R_squared_fe = fe_model.rsquared\n",
    "\n",
    "# Menghitung jumlah observasi dan variabel independen\n",
    "N = len(df.index.get_level_values('id').unique())  # Jumlah entitas (kelurahan)\n",
    "T = len(df.index.get_level_values('tahun').unique())  # Jumlah periode waktu (tahun)\n",
    "k = X.shape[1]  # Jumlah variabel independen (termasuk konstanta)\n",
    "\n",
    "# Menghitung F-statistik untuk Uji Chow\n",
    "f_stat = ((R_squared_fe - R_squared_ols) / (N - 1)) / ((1 - R_squared_fe) / (N * T - N - k))\n",
    "print(f\"F-statistic untuk Uji Chow: {f_stat}\")\n",
    "\n",
    "# Nilai kritis F untuk alpha = 0.05\n",
    "from scipy.stats import f as f_dist\n",
    "f_critical = f_dist.ppf(1 - 0.05, N - 1, N * T - N - k)\n",
    "print(f\"Nilai kritis F (alpha = 0.05): {f_critical}\")\n",
    "\n",
    "# Interpretasi Uji Chow\n",
    "if f_stat > f_critical:\n",
    "    print(\"H0 ditolak: Gunakan model Fixed Effects (FE).\")\n",
    "else:\n",
    "    print(\"H0 diterima: Gunakan model Pooled OLS (Common Effect).\")\n",
    "\n",
    "# Menampilkan hasil model\n",
    "print(\"\\nHasil Model Pooled OLS:\")\n",
    "print(pooled_model.summary())\n",
    "print(\"\\nHasil Model Fixed Effects:\")\n",
    "print(fe_model.summary)\n"
   ]
  },
  {
   "cell_type": "code",
   "execution_count": 180,
   "id": "4014d207-5f84-475b-a658-2fafb7a17e31",
   "metadata": {},
   "outputs": [
    {
     "name": "stdout",
     "output_type": "stream",
     "text": [
      "F-statistic untuk Uji Chow: 0.0031700575762288103\n",
      "Nilai kritis F (alpha = 0.05): 1.1049434076235995\n",
      "H0 diterima: Gunakan model Pooled OLS (Common Effect).\n"
     ]
    }
   ],
   "source": [
    "# 6. Uji Chow\n",
    "# Menghitung R-squared dari kedua model\n",
    "R_squared_ols = pooled_model.rsquared\n",
    "R_squared_fe = fe_model.rsquared\n",
    "\n",
    "# Menghitung jumlah observasi dan variabel independen\n",
    "N = len(df.index.get_level_values('id').unique())  # Jumlah entitas (kelurahan)\n",
    "T = len(df.index.get_level_values('tahun').unique())  # Jumlah periode waktu (tahun)\n",
    "k = X.shape[1]  # Jumlah variabel independen (termasuk konstanta)\n",
    "\n",
    "# Menghitung F-statistik untuk Uji Chow\n",
    "f_stat = ((R_squared_fe - R_squared_ols) / (N - 1)) / ((1 - R_squared_fe) / (N * T - N - k))\n",
    "print(f\"F-statistic untuk Uji Chow: {f_stat}\")\n",
    "\n",
    "# Nilai kritis F untuk alpha = 0.05\n",
    "from scipy.stats import f as f_dist\n",
    "f_critical = f_dist.ppf(1 - 0.05, N - 1, N * T - N - k)\n",
    "print(f\"Nilai kritis F (alpha = 0.05): {f_critical}\")\n",
    "\n",
    "# Interpretasi Uji Chow\n",
    "if f_stat > f_critical:\n",
    "    print(\"H0 ditolak: Gunakan model Fixed Effects (FE).\")\n",
    "else:\n",
    "    print(\"H0 diterima: Gunakan model Pooled OLS (Common Effect).\")"
   ]
  },
  {
   "cell_type": "code",
   "execution_count": null,
   "id": "a3db3609-7054-437a-9180-40630fc49a59",
   "metadata": {},
   "outputs": [],
   "source": []
  },
  {
   "cell_type": "markdown",
   "id": "ad1bfd06-c855-438a-a67d-a5d80e1a0f02",
   "metadata": {},
   "source": [
    "## 2. Uji Breusch-Pagan Lagrange Multiplier (BP-LM)"
   ]
  },
  {
   "cell_type": "code",
   "execution_count": 184,
   "id": "7299041d-3e95-44ab-aaab-68115b35969b",
   "metadata": {},
   "outputs": [
    {
     "name": "stdout",
     "output_type": "stream",
     "text": [
      "provinsi                       object\n",
      "nama_kota                      object\n",
      "nama_kecamatan                 object\n",
      "nama_kelurahan                 object\n",
      "jumlah                          int32\n",
      "                               ...   \n",
      "pekerjaan_ibu_Transportasi       bool\n",
      "pekerjaan_ibu_Tukang Jahit       bool\n",
      "pekerjaan_ibu_Wartawan           bool\n",
      "pekerjaan_ibu_Wiraswasta         bool\n",
      "jumlah_log                    float64\n",
      "Length: 62, dtype: object\n",
      "Statistik LM: 1201.5970364214656\n",
      "P-value untuk uji BP-LM: 0.0\n",
      "H0 ditolak: Gunakan model Random Effects.\n"
     ]
    }
   ],
   "source": [
    "import pandas as pd\n",
    "import numpy as np\n",
    "import statsmodels.api as sm\n",
    "from scipy.stats import chi2\n",
    "\n",
    "# 1. Membaca data dan filter hanya untuk 3 tahun terakhir (2017-2019)\n",
    "file_path = 'C:/Users/thinkpad.DESKTOP-BP0710L/Downloads/Data_Jumlah_Kelahiran_Bayi.csv'\n",
    "df_last_3_years = pd.read_csv(file_path)\n",
    "\n",
    "# Mengonversi kolom 'tahun' dan 'jumlah' ke tipe data yang benar\n",
    "df_last_3_years['tahun'] = df_last_3_years['tahun'].astype(int)\n",
    "df_last_3_years['jumlah'] = df_last_3_years['jumlah'].astype(int)\n",
    "\n",
    "# Memfilter data untuk tahun 2017-2019\n",
    "df_last_3_years = df_last_3_years[df_last_3_years['tahun'].between(2017, 2019)]\n",
    "\n",
    "# 2. Membuat kolom 'id' dengan menggabungkan 'nama_kelurahan' dan 'tahun'\n",
    "df_last_3_years['id'] = df_last_3_years['nama_kelurahan'].astype(str) + '-' + df_last_3_years['tahun'].astype(str)\n",
    "\n",
    "# Menetapkan MultiIndex untuk entitas dan periode waktu (id dan tahun)\n",
    "df_last_3_years.set_index(['id', 'tahun'], inplace=True)\n",
    "\n",
    "# 3. Membuat variabel dummy untuk pekerjaan ibu\n",
    "df_last_3_years = pd.get_dummies(df_last_3_years, columns=['pekerjaan_ibu'], drop_first=True)\n",
    "\n",
    "# 4. Membuat kolom 'jumlah_log' sebagai logaritma dari jumlah kelahiran bayi\n",
    "df_last_3_years['jumlah_log'] = np.log1p(df_last_3_years['jumlah'])\n",
    "\n",
    "# **Pemeriksaan tipe data**\n",
    "print(df_last_3_years.dtypes)  # Cek tipe data setiap kolom\n",
    "\n",
    "# **Periksa apakah kolom pekerjaan_ibu sudah menjadi numerik**\n",
    "# Jika ada kolom pekerjaan_ibu yang tetap bertipe 'object', lakukan konversi\n",
    "\n",
    "# 5. Membuat variabel dependen dan independen untuk model Pooled OLS\n",
    "y = df_last_3_years['jumlah_log']  # Variabel dependen\n",
    "\n",
    "# Pastikan hanya memilih kolom numerik untuk X (variabel independen)\n",
    "X = df_last_3_years[[col for col in df_last_3_years.columns if col.startswith('pekerjaan_ibu_')]]  # Variabel independen (dummy)\n",
    "\n",
    "# Menambahkan konstanta\n",
    "X = sm.add_constant(X)\n",
    "\n",
    "# **Pastikan semua kolom X adalah numerik**\n",
    "X = X.astype('float64')\n",
    "\n",
    "# Estimasi model Pooled OLS\n",
    "pooled_model = sm.OLS(y, X).fit()\n",
    "\n",
    "# 6. Hitung residual dari model Pooled OLS\n",
    "residuals = pooled_model.resid\n",
    "\n",
    "# 7. Hitung statistik LM untuk uji Breusch-Pagan\n",
    "# Hitung varians residual per entitas\n",
    "N = len(df_last_3_years.index.get_level_values('id').unique())  # Jumlah entitas (kelurahan)\n",
    "T = len(df_last_3_years.index.get_level_values('tahun').unique())  # Jumlah periode waktu (tahun)\n",
    "\n",
    "# Residual kuadrat per entitas\n",
    "residual_squared = residuals ** 2\n",
    "\n",
    "# Hitung statistik LM\n",
    "LM_stat = (N * T / 2) * (np.sum(residual_squared) / (np.sum(residual_squared) - np.var(residual_squared)))\n",
    "print(f\"Statistik LM: {LM_stat}\")\n",
    "\n",
    "# 8. Menghitung nilai kritis LM untuk uji hipotesis\n",
    "df_re = N - 1  # Derajat kebebasan untuk uji Breusch-Pagan\n",
    "p_value = 1 - chi2.cdf(LM_stat, df_re)\n",
    "\n",
    "# Menampilkan hasil uji\n",
    "print(f\"P-value untuk uji BP-LM: {p_value}\")\n",
    "\n",
    "# 9. Interpretasi hasil uji\n",
    "if p_value < 0.05:\n",
    "    print(\"H0 ditolak: Gunakan model Random Effects.\")\n",
    "else:\n",
    "    print(\"H0 diterima: Gunakan model Pooled OLS (Common Effect).\")\n"
   ]
  },
  {
   "cell_type": "code",
   "execution_count": null,
   "id": "8bf39f3e-c17d-4c47-92f3-efb193ca3ac9",
   "metadata": {},
   "outputs": [],
   "source": []
  },
  {
   "cell_type": "markdown",
   "id": "f7a917f7-cef3-482a-9eed-8b5aad3f496d",
   "metadata": {},
   "source": [
    "### Sehingga RE akan digunakan"
   ]
  },
  {
   "cell_type": "markdown",
   "id": "f5be007b-d18d-4c2b-908d-3fa594abcccb",
   "metadata": {},
   "source": [
    "## Pengujian tambahan\n",
    "## 3. Uji Hausman untuk Pemilihan Model\n",
    "\n",
    "Proses ini melakukan uji Hausman untuk memilih antara model Fixed Effects atau Random Effects.\n"
   ]
  },
  {
   "cell_type": "code",
   "execution_count": 189,
   "id": "eaf13362-112e-4651-97bb-72121b6b84be",
   "metadata": {},
   "outputs": [
    {
     "name": "stdout",
     "output_type": "stream",
     "text": [
      "Statistik Uji Hausman: 74.24036827095115\n",
      "P-value untuk uji Hausman: 0.05186840808111581\n",
      "H0 diterima: Gunakan model Random Effects.\n"
     ]
    }
   ],
   "source": [
    "import pandas as pd\n",
    "from linearmodels.panel import PanelOLS, RandomEffects\n",
    "import numpy as np\n",
    "from scipy.stats import chi2\n",
    "\n",
    "# Mengasumsikan df_last_3_years adalah dataframe yang sudah dipersiapkan dan di-index oleh 'id' dan 'tahun'\n",
    "\n",
    "# 1. Menetapkan variabel dependen dan independen\n",
    "y = df_last_3_years['jumlah_log']  # Variabel dependen\n",
    "X = df_last_3_years[[col for col in df_last_3_years.columns if col.startswith('pekerjaan_ibu_')]]  # Variabel independen\n",
    "X = sm.add_constant(X)  # Menambahkan konstanta ke model\n",
    "\n",
    "# 2. Model Fixed Effects (PanelOLS)\n",
    "model_fe = PanelOLS(y, X, entity_effects=True)\n",
    "fe_results = model_fe.fit()\n",
    "\n",
    "# 3. Model Random Effects (RandomEffects)\n",
    "model_re = RandomEffects(y, X)\n",
    "re_results = model_re.fit()\n",
    "\n",
    "# 4. Menghitung perbedaan koefisien antara model FE dan RE\n",
    "fe_coefficients = fe_results.params\n",
    "re_coefficients = re_results.params\n",
    "\n",
    "# 5. Menghitung matriks kovarians untuk model FE dan RE\n",
    "fe_cov = fe_results.cov\n",
    "re_cov = re_results.cov\n",
    "\n",
    "# 6. Menghitung statistik uji Hausman\n",
    "diff_coeffs = fe_coefficients - re_coefficients\n",
    "diff_cov = fe_cov + re_cov  # Penjumlahan kovarians FE dan RE\n",
    "\n",
    "# Statistik uji Hausman = (differen coefficients)^T * (diff_cov)^(-1) * (difference coefficients)\n",
    "hausman_stat = np.dot(np.dot(diff_coeffs.T, np.linalg.inv(diff_cov)), diff_coeffs)\n",
    "\n",
    "# Derajat kebebasan untuk uji Hausman adalah jumlah koefisien yang diuji\n",
    "df_re = len(fe_coefficients)  # Jumlah koefisien yang diuji\n",
    "\n",
    "# Menghitung p-value dari statistik uji Hausman\n",
    "p_value = 1 - chi2.cdf(hausman_stat, df_re)\n",
    "\n",
    "# Menampilkan hasil uji Hausman\n",
    "print(f\"Statistik Uji Hausman: {hausman_stat}\")\n",
    "print(f\"P-value untuk uji Hausman: {p_value}\")\n",
    "\n",
    "# Interpretasi\n",
    "if p_value < 0.05:\n",
    "    print(\"H0 ditolak: Gunakan model Fixed Effects.\")\n",
    "else:\n",
    "    print(\"H0 diterima: Gunakan model Random Effects.\")\n"
   ]
  },
  {
   "cell_type": "code",
   "execution_count": null,
   "id": "531077b4-d018-4214-8a31-45f76ac2fec4",
   "metadata": {},
   "outputs": [],
   "source": []
  },
  {
   "cell_type": "markdown",
   "id": "4e20a5ec-8046-449b-971c-1eab99d4b05d",
   "metadata": {},
   "source": [
    "# Uji Diagnostik"
   ]
  },
  {
   "cell_type": "markdown",
   "id": "dd3ba6ac-2344-4f9d-a123-1a485cea6b2d",
   "metadata": {},
   "source": [
    "## 1. Multikolinearitas"
   ]
  },
  {
   "cell_type": "code",
   "execution_count": 206,
   "id": "da263cd1-3b18-4ebe-b146-c503db503094",
   "metadata": {},
   "outputs": [
    {
     "name": "stdout",
     "output_type": "stream",
     "text": [
      "                Variable       VIF\n",
      "0                  const  2.991579\n",
      "1  pekerjaan_ibu_dummies  1.000000\n"
     ]
    }
   ],
   "source": [
    "from statsmodels.stats.outliers_influence import variance_inflation_factor\n",
    "from statsmodels.tools.tools import add_constant\n",
    "\n",
    "# Menambahkan konstanta untuk VIF\n",
    "X_with_const = add_constant(X)\n",
    "vif = pd.DataFrame()\n",
    "vif['Variable'] = X_with_const.columns\n",
    "vif['VIF'] = [variance_inflation_factor(X_with_const.values, i) for i in range(X_with_const.shape[1])]\n",
    "print(vif)\n"
   ]
  },
  {
   "cell_type": "markdown",
   "id": "9e8f5d5d-3ad2-49e3-a7f9-258e969d77e8",
   "metadata": {},
   "source": [
    "## 2. Autokorelasi"
   ]
  },
  {
   "cell_type": "code",
   "execution_count": 207,
   "id": "1d6f4df9-d4da-40fd-bd06-ddf400cc42fb",
   "metadata": {},
   "outputs": [
    {
     "name": "stdout",
     "output_type": "stream",
     "text": [
      "Durbin-Watson: 2.0930760147764764\n"
     ]
    }
   ],
   "source": [
    "from statsmodels.stats.stattools import durbin_watson\n",
    "dw_stat = durbin_watson(pooled_model.resid)\n",
    "print(f'Durbin-Watson: {dw_stat}')\n"
   ]
  },
  {
   "cell_type": "markdown",
   "id": "d1467cfa-871c-4817-91b8-ab6c286dfc95",
   "metadata": {},
   "source": [
    "## 3.  Heteroskedastisitas"
   ]
  },
  {
   "cell_type": "code",
   "execution_count": 208,
   "id": "3b7e9b93-b57d-4856-b20a-b044d4cfb720",
   "metadata": {},
   "outputs": [
    {
     "name": "stdout",
     "output_type": "stream",
     "text": [
      "Uji Breusch-Pagan: (0.6688312325898234, 0.4134593895032127, 0.6687473291439617, 0.41350704998328613)\n"
     ]
    }
   ],
   "source": [
    "from statsmodels.stats.diagnostic import het_breuschpagan\n",
    "from statsmodels.tools.tools import add_constant\n",
    "\n",
    "# Memasukkan konstanta ke dalam X\n",
    "X_with_const = add_constant(X)\n",
    "bp_test = het_breuschpagan(pooled_model.resid, X_with_const)\n",
    "print(f'Uji Breusch-Pagan: {bp_test}')\n"
   ]
  },
  {
   "cell_type": "markdown",
   "id": "0a378ccb-4563-498c-ac56-858e1687e9b1",
   "metadata": {},
   "source": [
    "#  Validasi Model"
   ]
  },
  {
   "cell_type": "markdown",
   "id": "09207c85-0580-466c-b8e0-5c527f8fe48d",
   "metadata": {},
   "source": [
    "## Prediksi dan Visualisasi"
   ]
  },
  {
   "cell_type": "code",
   "execution_count": 209,
   "id": "baf8ce35-f494-4120-8750-d142f43aeb71",
   "metadata": {
    "scrolled": true
   },
   "outputs": [
    {
     "data": {
      "image/png": "[encoded data removed]",
      "text/plain": [
       "<Figure size 640x480 with 1 Axes>"
      ]
     },
     "metadata": {},
     "output_type": "display_data"
    }
   ],
   "source": [
    "import matplotlib.pyplot as plt\n",
    "y_pred = pooled_model.predict(X_with_const)\n",
    "plt.scatter(y, y_pred)\n",
    "plt.xlabel(\"Nilai Aktual\")\n",
    "plt.ylabel(\"Nilai Prediksi\")\n",
    "plt.title(\"Prediksi vs Aktual\")\n",
    "plt.show()\n"
   ]
  },
  {
   "cell_type": "markdown",
   "id": "2d12037c-b7ff-4930-92f1-82e57d6f1900",
   "metadata": {},
   "source": [
    "## Evaluasi Kualitas Model"
   ]
  },
  {
   "cell_type": "code",
   "execution_count": 210,
   "id": "deec7821-a82e-4ab8-8107-0716f498e6fd",
   "metadata": {},
   "outputs": [
    {
     "name": "stdout",
     "output_type": "stream",
     "text": [
      "MSE: 2.3614211130667635, RMSE: 1.5366916128705732, MAE: 1.2003360753084342\n"
     ]
    }
   ],
   "source": [
    "from sklearn.metrics import mean_squared_error, mean_absolute_error\n",
    "\n",
    "mse = mean_squared_error(y, y_pred)\n",
    "rmse = np.sqrt(mse)\n",
    "mae = mean_absolute_error(y, y_pred)\n",
    "\n",
    "print(f'MSE: {mse}, RMSE: {rmse}, MAE: {mae}')\n"
   ]
  },
  {
   "cell_type": "code",
   "execution_count": null,
   "id": "0d7f63d3-fc4d-44ad-960b-3a0391e4d7b9",
   "metadata": {},
   "outputs": [],
   "source": []
  },
  {
   "cell_type": "markdown",
   "id": "ca7cae67-7dff-45f1-940e-b494e82eb004",
   "metadata": {},
   "source": [
    "================================ TERIMA KASIH =============================="
   ]
  },
  {
   "cell_type": "code",
   "execution_count": null,
   "id": "05662b60-083f-4b5d-a7c2-624a444d69c4",
   "metadata": {},
   "outputs": [],
   "source": []
  }
 ],
 "metadata": {
  "kernelspec": {
   "display_name": "Python 3 (ipykernel)",
   "language": "python",
   "name": "python3"
  },
  "language_info": {
   "codemirror_mode": {
    "name": "ipython",
    "version": 3
   },
   "file_extension": ".py",
   "mimetype": "text/x-python",
   "name": "python",
   "nbconvert_exporter": "python",
   "pygments_lexer": "ipython3",
   "version": "3.9.20"
  }
 },
 "nbformat": 4,
 "nbformat_minor": 5
}
